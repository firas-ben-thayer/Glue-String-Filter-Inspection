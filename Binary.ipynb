{
 "cells": [
  {
   "cell_type": "code",
   "metadata": {
    "jupyter": {
     "is_executing": true
    },
    "ExecuteTime": {
     "start_time": "2024-05-19T21:30:59.051275Z"
    }
   },
   "source": [
    "import cv2\n",
    "\n",
    "def on_trackbar_change(value):\n",
    "    # Update the global threshold value when the trackbar is moved\n",
    "    global threshold_value\n",
    "    threshold_value = value\n",
    "\n",
    "# Load the image\n",
    "img = cv2.imread('Dataset/correct_filters/image_1.png', cv2.IMREAD_GRAYSCALE)  # Load image in grayscale\n",
    "\n",
    "# Check if image is loaded successfully\n",
    "if img is None:\n",
    "    print(\"Error: Image not found or unable to read.\")\n",
    "    exit()\n",
    "\n",
    "# Initialize the threshold value\n",
    "threshold_value = 0\n",
    "\n",
    "# Create a named window\n",
    "cv2.namedWindow('Binary Threshold')\n",
    "\n",
    "# Create a trackbar to adjust the threshold value\n",
    "cv2.createTrackbar('Threshold', 'Binary Threshold', 0, 255, on_trackbar_change)\n",
    "\n",
    "while True:\n",
    "    # Apply binary thresholding\n",
    "    _, img_thresh = cv2.threshold(img, threshold_value, 255, cv2.THRESH_BINARY)\n",
    "    \n",
    "    # Show the original and thresholded images\n",
    "    cv2.imshow('Original Image', img)\n",
    "    cv2.imshow('Binary Threshold', img_thresh)\n",
    "    \n",
    "    # Wait for the 'q' key to be pressed to exit the loop\n",
    "    if cv2.waitKey(1) & 0xFF == ord('q'):\n",
    "        break\n",
    "\n",
    "# Destroy all windows\n",
    "cv2.destroyAllWindows()"
   ],
   "outputs": [],
   "execution_count": null
  },
  {
   "cell_type": "code",
   "metadata": {
    "jupyter": {
     "is_executing": true
    }
   },
   "source": [],
   "outputs": [],
   "execution_count": null
  },
  {
   "metadata": {},
   "cell_type": "code",
   "outputs": [],
   "execution_count": null,
   "source": ""
  }
 ],
 "metadata": {
  "language_info": {
   "name": "python"
  },
  "kernelspec": {
   "name": "python3",
   "language": "python",
   "display_name": "Python 3 (ipykernel)"
  }
 },
 "nbformat": 4,
 "nbformat_minor": 2
}
